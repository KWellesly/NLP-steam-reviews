{
 "cells": [
  {
   "cell_type": "markdown",
   "metadata": {},
   "source": [
    "# jupyter notebook --NotebookApp.iopub_data_rate_limit=1.0e10"
   ]
  },
  {
   "cell_type": "code",
   "execution_count": 3,
   "metadata": {},
   "outputs": [
    {
     "ename": "ModuleNotFoundError",
     "evalue": "No module named 'sklearn'",
     "output_type": "error",
     "traceback": [
      "\u001b[1;31m---------------------------------------------------------------------------\u001b[0m",
      "\u001b[1;31mModuleNotFoundError\u001b[0m                       Traceback (most recent call last)",
      "\u001b[1;32m<ipython-input-3-a5dd22eaf915>\u001b[0m in \u001b[0;36m<module>\u001b[1;34m\u001b[0m\n\u001b[0;32m     12\u001b[0m \u001b[1;33m\u001b[0m\u001b[0m\n\u001b[0;32m     13\u001b[0m \u001b[1;31m# sklearn\u001b[0m\u001b[1;33m\u001b[0m\u001b[1;33m\u001b[0m\u001b[1;33m\u001b[0m\u001b[0m\n\u001b[1;32m---> 14\u001b[1;33m \u001b[1;32mfrom\u001b[0m \u001b[0msklearn\u001b[0m\u001b[1;33m.\u001b[0m\u001b[0mfeature_extraction\u001b[0m\u001b[1;33m.\u001b[0m\u001b[0mtext\u001b[0m \u001b[1;32mimport\u001b[0m \u001b[0mTfidfVectorizer\u001b[0m\u001b[1;33m\u001b[0m\u001b[1;33m\u001b[0m\u001b[0m\n\u001b[0m\u001b[0;32m     15\u001b[0m \u001b[1;33m\u001b[0m\u001b[0m\n\u001b[0;32m     16\u001b[0m \u001b[1;31m# keras imports\u001b[0m\u001b[1;33m\u001b[0m\u001b[1;33m\u001b[0m\u001b[1;33m\u001b[0m\u001b[0m\n",
      "\u001b[1;31mModuleNotFoundError\u001b[0m: No module named 'sklearn'"
     ]
    }
   ],
   "source": [
    "import numpy as np\n",
    "from numpy import savetxt\n",
    "import pandas as pd\n",
    "import matplotlib as mp\n",
    "import matplotlib.pyplot as plt\n",
    "import re, itertools\n",
    "import string\n",
    "from collections import OrderedDict\n",
    "from operator import itemgetter\n",
    "import time\n",
    "import gzip\n",
    "\n",
    "# sklearn\n",
    "from sklearn.feature_extraction.text import TfidfVectorizer\n",
    "\n",
    "# keras imports\n",
    "from keras.preprocessing.text import one_hot\n",
    "from keras.preprocessing.sequence import pad_sequences\n",
    "from keras.models import Sequential\n",
    "from keras.layers import Dense, Flatten\n",
    "from keras.layers.embeddings import Embedding\n",
    "\n",
    "# nltk\n",
    "import nltk\n",
    "from nltk.stem import WordNetLemmatizer \n",
    "from nltk.corpus import stopwords\n",
    "nltk.download('stopwords')\n",
    "\n",
    "# text cleanup\n",
    "# from pattern.en import suggest\n",
    "import enchant\n",
    "from enchant.checker import SpellChecker\n",
    "from spellchecker import SpellChecker\n",
    "\n",
    "from IPython.core.display import display, HTML\n",
    "display(HTML(\"<style>.container { width:95% !important; }</style>\"))"
   ]
  },
  {
   "cell_type": "code",
   "execution_count": null,
   "metadata": {},
   "outputs": [],
   "source": [
    "def parse(path):\n",
    "    g = gzip.open(path, 'rb')\n",
    "    for l in g:\n",
    "        yield eval(l)\n",
    "\n",
    "def getDF(path):\n",
    "    i = 0\n",
    "    df = {}\n",
    "    for d in parse(path):\n",
    "        df[i] = d\n",
    "        i += 1\n",
    "    return pd.DataFrame.from_dict(df, orient='index')\n",
    "\n",
    "df = getDF('data/reviews_Video_Games_5.json.gz')"
   ]
  },
  {
   "cell_type": "code",
   "execution_count": 15,
   "metadata": {},
   "outputs": [
    {
     "data": {
      "text/plain": [
       "231780"
      ]
     },
     "execution_count": 15,
     "metadata": {},
     "output_type": "execute_result"
    }
   ],
   "source": [
    "len(df)"
   ]
  },
  {
   "cell_type": "code",
   "execution_count": 11,
   "metadata": {},
   "outputs": [
    {
     "data": {
      "text/html": [
       "<div>\n",
       "<style scoped>\n",
       "    .dataframe tbody tr th:only-of-type {\n",
       "        vertical-align: middle;\n",
       "    }\n",
       "\n",
       "    .dataframe tbody tr th {\n",
       "        vertical-align: top;\n",
       "    }\n",
       "\n",
       "    .dataframe thead th {\n",
       "        text-align: right;\n",
       "    }\n",
       "</style>\n",
       "<table border=\"1\" class=\"dataframe\">\n",
       "  <thead>\n",
       "    <tr style=\"text-align: right;\">\n",
       "      <th></th>\n",
       "      <th>review</th>\n",
       "      <th>overall</th>\n",
       "    </tr>\n",
       "  </thead>\n",
       "  <tbody>\n",
       "    <tr>\n",
       "      <th>0</th>\n",
       "      <td>Installing the game was a struggle (because of...</td>\n",
       "      <td>1.0</td>\n",
       "    </tr>\n",
       "    <tr>\n",
       "      <th>1</th>\n",
       "      <td>If you like rally cars get this game you will ...</td>\n",
       "      <td>4.0</td>\n",
       "    </tr>\n",
       "    <tr>\n",
       "      <th>2</th>\n",
       "      <td>1st shipment received a book instead of the ga...</td>\n",
       "      <td>1.0</td>\n",
       "    </tr>\n",
       "    <tr>\n",
       "      <th>3</th>\n",
       "      <td>I got this version instead of the PS3 version,...</td>\n",
       "      <td>3.0</td>\n",
       "    </tr>\n",
       "    <tr>\n",
       "      <th>4</th>\n",
       "      <td>I had Dirt 2 on Xbox 360 and it was an okay ga...</td>\n",
       "      <td>4.0</td>\n",
       "    </tr>\n",
       "  </tbody>\n",
       "</table>\n",
       "</div>"
      ],
      "text/plain": [
       "                                              review  overall\n",
       "0  Installing the game was a struggle (because of...      1.0\n",
       "1  If you like rally cars get this game you will ...      4.0\n",
       "2  1st shipment received a book instead of the ga...      1.0\n",
       "3  I got this version instead of the PS3 version,...      3.0\n",
       "4  I had Dirt 2 on Xbox 360 and it was an okay ga...      4.0"
      ]
     },
     "execution_count": 11,
     "metadata": {},
     "output_type": "execute_result"
    }
   ],
   "source": [
    "desired_cols = ['reviewText', 'overall']\n",
    "df = df[desired_cols].rename(columns={'reviewText': 'review'})\n",
    "df.head()"
   ]
  },
  {
   "cell_type": "markdown",
   "metadata": {},
   "source": [
    "# Percentile graphing below -- it takes a very long time to run?"
   ]
  },
  {
   "cell_type": "code",
   "execution_count": null,
   "metadata": {},
   "outputs": [
    {
     "name": "stdout",
     "output_type": "stream",
     "text": [
      "28171\n"
     ]
    },
    {
     "data": {
      "image/png": "[encoded data removed]",
      "text/plain": [
       "<Figure size 432x288 with 1 Axes>"
      ]
     },
     "metadata": {
      "needs_background": "light"
     },
     "output_type": "display_data"
    }
   ],
   "source": [
    "# perc = np.percentile(df['helpful'], 99) #10,25,50,75,90\n",
    "d = df['helpful']\n",
    "print(np.max(df['helpful']))\n",
    "p = np.linspace(90, 100, 10)\n",
    "# p = [10.0,25.0,50.0,75.0,90.0]\n",
    "perc = np.percentile(d, p)\n",
    "\n",
    "plt.plot(d)\n",
    "plt.ylabel('# of Helpful Votes')\n",
    "plt.xlabel('Reviews')\n",
    "plt.show()\n",
    "\n",
    "fig = plt.figure()\n",
    "ax = plt.axes()\n",
    "ax.plot(p, perc)\n",
    "plt.ylabel('# of Votes')\n",
    "plt.xlabel('Percentile')\n",
    "\n",
    "rec = df['recommendation']\n",
    "yes = df['recommendation'].sum()\n",
    "no = len(df['recommendation']) - yes\n",
    "print(yes)\n",
    "print(no)\n",
    "\n",
    "x = (\"Recommended\", \"Not Recommended\")\n",
    "y = [yes, no]\n",
    "fig2 = plt.figure()\n",
    "\n",
    "plt.bar(x, y, align='center', alpha=0.5)\n",
    "plt.ylabel('# of Reviews')\n",
    "plt.show()\n",
    "\n",
    "fig3 = plt.figure()"
   ]
  },
  {
   "cell_type": "markdown",
   "metadata": {},
   "source": [
    "# remove nan reviews"
   ]
  },
  {
   "cell_type": "code",
   "execution_count": 12,
   "metadata": {},
   "outputs": [
    {
     "name": "stdout",
     "output_type": "stream",
     "text": [
      "dropped 0 nan reviews\n"
     ]
    }
   ],
   "source": [
    "orig_len = len(df)\n",
    "df.dropna(axis=0, inplace=True)\n",
    "print ('dropped {} nan reviews'.format(orig_len - len(df)))"
   ]
  },
  {
   "cell_type": "code",
   "execution_count": 13,
   "metadata": {},
   "outputs": [
    {
     "data": {
      "text/plain": [
       "32"
      ]
     },
     "execution_count": 13,
     "metadata": {},
     "output_type": "execute_result"
    }
   ],
   "source": [
    "table = str.maketrans('', '', string.punctuation)\n",
    "len(table)"
   ]
  },
  {
   "cell_type": "markdown",
   "metadata": {},
   "source": [
    "# Moved the below code after removing nan reviews, also refactored for speed"
   ]
  },
  {
   "cell_type": "code",
   "execution_count": 14,
   "metadata": {},
   "outputs": [
    {
     "name": "stdout",
     "output_type": "stream",
     "text": [
      "208.6613124514626\n",
      "48363519\n"
     ]
    }
   ],
   "source": [
    "r = df[\"review\"].tolist()\n",
    "r1 = []\n",
    "for i in range(len(r)):\n",
    "    word_len = len(r[i].split(\" \"))\n",
    "    r1.append(word_len)\n",
    "print (np.mean(r1))\n",
    "print (np.sum(r1))"
   ]
  },
  {
   "cell_type": "markdown",
   "metadata": {},
   "source": [
    "# Only keep reviews <= 300 words\n",
    "* Need to calculate 10th, 25th, 50th, 75th, 90th percentile of helpful/funny votes on the removed reviews to unders"
   ]
  },
  {
   "cell_type": "code",
   "execution_count": 11,
   "metadata": {},
   "outputs": [
    {
     "name": "stdout",
     "output_type": "stream",
     "text": [
      "removed 15916 reviews > 200 words\n"
     ]
    }
   ],
   "source": [
    "# remove reviews over a limit\n",
    "removed_idx = []\n",
    "for i in range(len(df)):\n",
    "    review = df.iloc[i].review\n",
    "    words = review.split(\" \")\n",
    "    if len(words) > 200: \n",
    "        removed_idx.append(i)\n",
    "\n",
    "\n",
    "df.drop(df.index[removed_idx], inplace=True)\n",
    "print (\"removed {} reviews > 200 words\".format(len(removed_idx)))"
   ]
  },
  {
   "cell_type": "markdown",
   "metadata": {},
   "source": [
    "# Clean up textual data (try this stuff later, do vanilla run first)\n",
    "* Remove common stopwords?\n",
    "* Lower case everything \n",
    "* All ‘s in the data is preceded by a ‘\\’ which should be cleaned out\n",
    "* Maybe don't lower case everything... ex: \n",
    "    * \"I HIGHLY RECOMMEND THIS GAME CAUSE THERE ARE SOME KILLERS WILL FOLLOW YOU NO MATTER WHERE YOU GO IN WHICH YOU'LL GO LOOPING EACH OTHER Who said this game is a horror game but MEHHHH Lieesssss ahhahahaha xDDDI never laugh so hard cause of this game I LOVE IT &lt 3333\""
   ]
  },
  {
   "cell_type": "code",
   "execution_count": 16,
   "metadata": {},
   "outputs": [],
   "source": [
    "subset_reviews = df['review'].tolist()"
   ]
  },
  {
   "cell_type": "code",
   "execution_count": 17,
   "metadata": {},
   "outputs": [],
   "source": [
    "def reduce_lengthening(text):\n",
    "    pattern = re.compile(r\"(.)\\1{2,}\")\n",
    "    return pattern.sub(r\"\\1\\1\", text)"
   ]
  },
  {
   "cell_type": "code",
   "execution_count": 18,
   "metadata": {},
   "outputs": [
    {
     "name": "stdout",
     "output_type": "stream",
     "text": [
      "Removed 2664 rows\n",
      "time took: \n"
     ]
    },
    {
     "name": "stderr",
     "output_type": "stream",
     "text": [
      "IOPub data rate exceeded.\n",
      "The notebook server will temporarily stop sending output\n",
      "to the client in order to avoid crashing it.\n",
      "To change this limit, set the config variable\n",
      "`--NotebookApp.iopub_data_rate_limit`.\n",
      "\n",
      "Current values:\n",
      "NotebookApp.iopub_data_rate_limit=1000000.0 (bytes/sec)\n",
      "NotebookApp.rate_limit_window=3.0 (secs)\n",
      "\n"
     ]
    }
   ],
   "source": [
    "lemmatizer = WordNetLemmatizer() \n",
    "cleaned_reviews = []\n",
    "remove_rows = []\n",
    "stop_words = set(stopwords.words('english'))\n",
    "\n",
    "orig_len = len(df)\n",
    "start_time = time.time()\n",
    "for i, each_review in enumerate(subset_reviews):\n",
    "    each_cleaned_review = []\n",
    "    words = each_review.split(\" \")\n",
    "    for idx, each_word in enumerate(words):\n",
    "        encoded_text = each_word.encode('utf8')\n",
    "        if \"\\\\\" in str(encoded_text):\n",
    "            remove_rows.append(i)\n",
    "            break\n",
    "        cleaned = each_word.replace(\"(\", \"\").replace(\")\", \"\") # remove ()\n",
    "        if \".\" in cleaned:\n",
    "            if cleaned.split(\".\")[1] not in [\"\", \"'\"]:\n",
    "                cleaned = cleaned.replace(\".\", \". \") # add space after \".\" \n",
    "        cleaned = cleaned.translate(table).lower()\n",
    "        cleaned = reduce_lengthening(cleaned)\n",
    "        if len(cleaned) != 0 and cleaned not in stop_words:\n",
    "            #figure out how to stop empty strings\n",
    "            cleaned = lemmatizer.lemmatize(cleaned)\n",
    "            each_cleaned_review.append(cleaned)\n",
    "    cleaned_reviews.append(\" \".join(each_cleaned_review))\n",
    "    if len(each_cleaned_review) == 0:\n",
    "        remove_rows.append(i)\n",
    "\n",
    "cleaned_reviews = [i for j, i in enumerate(cleaned_reviews) if j not in remove_rows]\n",
    "df.drop(df.index[remove_rows], inplace=True)\n",
    "print (\"Removed {} rows\".format(orig_len - len(df)))\n",
    "print (\"time took: \".format(time.time() - start_time))\n",
    "print(cleaned_reviews)"
   ]
  },
  {
   "cell_type": "code",
   "execution_count": 19,
   "metadata": {},
   "outputs": [
    {
     "name": "stdout",
     "output_type": "stream",
     "text": [
      "229116\n",
      "229116\n"
     ]
    }
   ],
   "source": [
    "print (len(cleaned_reviews))\n",
    "print (len(df))"
   ]
  },
  {
   "cell_type": "code",
   "execution_count": 16,
   "metadata": {},
   "outputs": [
    {
     "name": "stdout",
     "output_type": "stream",
     "text": [
      "Took 0.0 for 50000 reviews \n",
      "Took 122.76657271385193 for 50000 reviews \n",
      "Took 80.91164016723633 for 50000 reviews \n",
      "Took 116.180330991745 for 50000 reviews \n",
      "Took 101.59243750572205 for 50000 reviews \n",
      "Took 126.44805026054382 for 50000 reviews \n",
      "Took 106.41717910766602 for 50000 reviews \n",
      "Took 108.37420415878296 for 50000 reviews \n",
      "Took 109.36903429031372 for 50000 reviews \n"
     ]
    }
   ],
   "source": [
    "# this cell takes ~20 minutes to run\n",
    "unknowns = {} \n",
    "chkr = enchant.checker.SpellChecker(\"en_EN\")\n",
    "\n",
    "start_time = time.time()\n",
    "\n",
    "for i, review in enumerate(cleaned_reviews):\n",
    "    if i % 50000 == 0:\n",
    "        print(\"Took {} for 50000 reviews \".format(time.time() - start_time))\n",
    "        start_time = time.time()\n",
    "    each_cleaned_review = []\n",
    "    words = review.split(\" \")\n",
    "    for idx, each_word in enumerate(words):\n",
    "        if len(each_word) == 0: # to handle double spaces\n",
    "            continue\n",
    "        if not chkr.check(each_word):\n",
    "            if not chkr.check(each_word[0].upper()+each_word[1:]): # check proper nouns\n",
    "                if each_word not in unknowns.keys():\n",
    "                    unknowns[each_word] = 1\n",
    "                else:\n",
    "                    unknowns[each_word] = unknowns[each_word] + 1\n",
    "\n",
    "common_unknowns = OrderedDict(sorted(unknowns.items(), key = itemgetter(1), reverse = True))\n",
    "\n",
    "# print(common_unknowns[0:20])"
   ]
  },
  {
   "cell_type": "code",
   "execution_count": 17,
   "metadata": {},
   "outputs": [],
   "source": [
    "common_unknowns = OrderedDict(sorted(unknowns.items(), key = itemgetter(1), reverse = True))\n",
    "\n",
    "# print(common_unknowns)"
   ]
  },
  {
   "cell_type": "code",
   "execution_count": 18,
   "metadata": {},
   "outputs": [
    {
     "name": "stdout",
     "output_type": "stream",
     "text": [
      "139445\n"
     ]
    }
   ],
   "source": [
    "print(len(common_unknowns))"
   ]
  },
  {
   "cell_type": "code",
   "execution_count": 20,
   "metadata": {},
   "outputs": [],
   "source": [
    "slang_dict = {}\n",
    "with open(\"data/slangdict.txt\") as f:\n",
    "    for line in f:\n",
    "        slang = line.split(\"-\")\n",
    "        if len(slang) > 1:\n",
    "            key = slang[0].strip().translate(table).lower()\n",
    "            val = slang[1].strip().translate(table).lower()\n",
    "            slang_dict[key] = val\n",
    "# print(slang_dict)"
   ]
  },
  {
   "cell_type": "code",
   "execution_count": 21,
   "metadata": {},
   "outputs": [
    {
     "name": "stdout",
     "output_type": "stream",
     "text": [
      "For 50000, took 320.77851033210754 seconds\n",
      "For 50000, took 2.9012410640716553 seconds\n",
      "For 50000, took 2.58309268951416 seconds\n",
      "For 50000, took 2.5771076679229736 seconds\n",
      "For 50000, took 2.3776419162750244 seconds\n"
     ]
    }
   ],
   "source": [
    "word_count_dict = {}\n",
    "for i, review in enumerate(cleaned_reviews):\n",
    "    if i% 50000 == 0:\n",
    "        print (\"For 50000, took {} seconds\".format(time.time() - start_time))\n",
    "        start_time = time.time()\n",
    "    words = review.split(\" \")\n",
    "    for idx, each_word in enumerate(words):\n",
    "        if each_word not in word_count_dict.keys():\n",
    "            word_count_dict[each_word] = 1\n",
    "        else:\n",
    "            word_count_dict[each_word] += 1"
   ]
  },
  {
   "cell_type": "markdown",
   "metadata": {},
   "source": [
    "### For steam dataset, set count to < 10 for 15K word dictionary size\n",
    "### For AMZN dataset, set count to < 100 for 10K word dictionary size"
   ]
  },
  {
   "cell_type": "code",
   "execution_count": 27,
   "metadata": {},
   "outputs": [
    {
     "name": "stdout",
     "output_type": "stream",
     "text": [
      "For 50000, took 0.0 seconds\n",
      "For 50000, took 1.663550615310669 seconds\n",
      "For 50000, took 1.6246168613433838 seconds\n",
      "For 50000, took 1.6316766738891602 seconds\n",
      "For 50000, took 1.533860445022583 seconds\n"
     ]
    }
   ],
   "source": [
    "spell = SpellChecker(distance=1)\n",
    "final_cleaned_reviews = []\n",
    "unk_counter = 0\n",
    "\n",
    "start_time = time.time()\n",
    "for i, review in enumerate(cleaned_reviews):\n",
    "    if i% 50000 == 0:\n",
    "        print (\"For 50000, took {} seconds\".format(time.time() - start_time))\n",
    "        start_time = time.time()\n",
    "    each_cleaned_review = []\n",
    "    words = review.split(\" \")\n",
    "    for idx, each_word in enumerate(words):\n",
    "        if word_count_dict[each_word] < 100:\n",
    "            words[idx] = 'UNK'\n",
    "#         if each_word in unknowns.keys():\n",
    "#             if unknowns[each_word] < 10000000: #trying to cut down words\n",
    "#                 if each_word in slang_dict.keys():\n",
    "#                     continue\n",
    "#                 w1 = spell.correction(each_word)\n",
    "#                 if w1 != each_word:\n",
    "#                     words[idx] = w1\n",
    "#                 else:\n",
    "#                 words[idx] = 'UNK'\n",
    "#                 unk_counter+=1\n",
    "                    \n",
    "    final_cleaned_reviews.append((\" \".join(words)))"
   ]
  },
  {
   "cell_type": "code",
   "execution_count": 29,
   "metadata": {},
   "outputs": [],
   "source": [
    "# find out vocab size after this cleaning portion\n",
    "word_set = {}\n",
    "for each_review in final_cleaned_reviews:\n",
    "    word_list = each_review.split(\" \")\n",
    "    for each_word in word_list:\n",
    "        word_set[each_word] = 1"
   ]
  },
  {
   "cell_type": "code",
   "execution_count": 30,
   "metadata": {},
   "outputs": [
    {
     "data": {
      "text/plain": [
       "10746"
      ]
     },
     "execution_count": 30,
     "metadata": {},
     "output_type": "execute_result"
    }
   ],
   "source": [
    "# cleaned vocab size\n",
    "# 1K min word count --> 38K vocab size\n",
    "# 2k min word count --> 38k vocab size\n",
    "# 10K min word count --> 30K\n",
    "\n",
    "#amzn dataset, 10 --> 37K\n",
    "\n",
    "\n",
    "len(word_set.keys())"
   ]
  },
  {
   "cell_type": "code",
   "execution_count": 31,
   "metadata": {},
   "outputs": [
    {
     "data": {
      "text/plain": [
       "10746"
      ]
     },
     "execution_count": 31,
     "metadata": {},
     "output_type": "execute_result"
    }
   ],
   "source": [
    "len(word_set)"
   ]
  },
  {
   "cell_type": "markdown",
   "metadata": {},
   "source": [
    "# todo spellcheck"
   ]
  },
  {
   "cell_type": "code",
   "execution_count": null,
   "metadata": {},
   "outputs": [],
   "source": [
    "len(df)"
   ]
  },
  {
   "cell_type": "code",
   "execution_count": 91,
   "metadata": {},
   "outputs": [
    {
     "data": {
      "text/plain": [
       "405671"
      ]
     },
     "execution_count": 91,
     "metadata": {},
     "output_type": "execute_result"
    }
   ],
   "source": [
    "len(final_cleaned_reviews)"
   ]
  },
  {
   "cell_type": "code",
   "execution_count": 32,
   "metadata": {},
   "outputs": [],
   "source": [
    "df['cleaned_reviews'] = final_cleaned_reviews"
   ]
  },
  {
   "cell_type": "markdown",
   "metadata": {},
   "source": [
    "# tf-idf below"
   ]
  },
  {
   "cell_type": "code",
   "execution_count": null,
   "metadata": {
    "collapsed": true
   },
   "outputs": [],
   "source": [
    "raw_text = test_drop['review']\n",
    "vectorizer = TfidfVectorizer(use_idf=True)\n",
    "vectors = vectorizer.fit_transform(raw_text.apply(lambda x: np.str_(x))) #.apply(lambda x: np.str_(x))\n",
    "\n",
    "# X_as_array = X.toarray()\n",
    "# use this line of code to verify that the numpy array represents the same number of documents that we have in the file list\n",
    "# print(len(X_as_array))\n",
    "\n",
    "feature_names = vectorizer.get_feature_names()"
   ]
  },
  {
   "cell_type": "code",
   "execution_count": null,
   "metadata": {
    "collapsed": true
   },
   "outputs": [],
   "source": [
    "# dense = vectors.todense()\n",
    "vectorlist = vectors.tolist()\n",
    "tf_idf = pd.DataFrame(vectorlist, columns=feature_names)"
   ]
  },
  {
   "cell_type": "code",
   "execution_count": null,
   "metadata": {
    "collapsed": true
   },
   "outputs": [],
   "source": [
    "print(vectors.shape)\n",
    "print(feature_names)"
   ]
  },
  {
   "cell_type": "markdown",
   "metadata": {},
   "source": [
    "**Ben's Date Stuff**"
   ]
  },
  {
   "cell_type": "code",
   "execution_count": 92,
   "metadata": {},
   "outputs": [],
   "source": [
    "newColumns = df[\"date_posted\"].str.split(\"-\", n = 2, expand = True) "
   ]
  },
  {
   "cell_type": "code",
   "execution_count": 93,
   "metadata": {},
   "outputs": [
    {
     "data": {
      "text/html": [
       "<div>\n",
       "<style scoped>\n",
       "    .dataframe tbody tr th:only-of-type {\n",
       "        vertical-align: middle;\n",
       "    }\n",
       "\n",
       "    .dataframe tbody tr th {\n",
       "        vertical-align: top;\n",
       "    }\n",
       "\n",
       "    .dataframe thead th {\n",
       "        text-align: right;\n",
       "    }\n",
       "</style>\n",
       "<table border=\"1\" class=\"dataframe\">\n",
       "  <thead>\n",
       "    <tr style=\"text-align: right;\">\n",
       "      <th></th>\n",
       "      <th>funny</th>\n",
       "      <th>helpful</th>\n",
       "      <th>hour_played</th>\n",
       "      <th>is_early_access_review</th>\n",
       "      <th>recommendation</th>\n",
       "      <th>review</th>\n",
       "      <th>title_ACE COMBAT™ 7: SKIES UNKNOWN</th>\n",
       "      <th>title_ARK: Survival Evolved</th>\n",
       "      <th>title_ASTRONEER</th>\n",
       "      <th>title_Battlefleet Gothic: Armada 2</th>\n",
       "      <th>...</th>\n",
       "      <th>title_Terraria</th>\n",
       "      <th>title_The Elder Scrolls V: Skyrim Special Edition</th>\n",
       "      <th>title_Tom Clancy's Rainbow Six® Siege</th>\n",
       "      <th>title_Wallpaper Engine</th>\n",
       "      <th>title_Wargroove</th>\n",
       "      <th>title_Warhammer 40,000: Mechanicus</th>\n",
       "      <th>cleaned_reviews</th>\n",
       "      <th>Year</th>\n",
       "      <th>Month</th>\n",
       "      <th>Day</th>\n",
       "    </tr>\n",
       "  </thead>\n",
       "  <tbody>\n",
       "    <tr>\n",
       "      <th>0</th>\n",
       "      <td>2</td>\n",
       "      <td>4</td>\n",
       "      <td>578</td>\n",
       "      <td>0</td>\n",
       "      <td>1</td>\n",
       "      <td>&amp;gt Played as German Reich&amp;gt Declare war on B...</td>\n",
       "      <td>0</td>\n",
       "      <td>0</td>\n",
       "      <td>0</td>\n",
       "      <td>0</td>\n",
       "      <td>...</td>\n",
       "      <td>0</td>\n",
       "      <td>0</td>\n",
       "      <td>0</td>\n",
       "      <td>0</td>\n",
       "      <td>0</td>\n",
       "      <td>0</td>\n",
       "      <td>gt played german UNK declare war UNK cant brea...</td>\n",
       "      <td>2019</td>\n",
       "      <td>02</td>\n",
       "      <td>10</td>\n",
       "    </tr>\n",
       "    <tr>\n",
       "      <th>1</th>\n",
       "      <td>0</td>\n",
       "      <td>0</td>\n",
       "      <td>184</td>\n",
       "      <td>0</td>\n",
       "      <td>1</td>\n",
       "      <td>yes.</td>\n",
       "      <td>0</td>\n",
       "      <td>0</td>\n",
       "      <td>0</td>\n",
       "      <td>0</td>\n",
       "      <td>...</td>\n",
       "      <td>0</td>\n",
       "      <td>0</td>\n",
       "      <td>0</td>\n",
       "      <td>0</td>\n",
       "      <td>0</td>\n",
       "      <td>0</td>\n",
       "      <td>yes</td>\n",
       "      <td>2019</td>\n",
       "      <td>02</td>\n",
       "      <td>10</td>\n",
       "    </tr>\n",
       "    <tr>\n",
       "      <th>2</th>\n",
       "      <td>0</td>\n",
       "      <td>0</td>\n",
       "      <td>892</td>\n",
       "      <td>0</td>\n",
       "      <td>1</td>\n",
       "      <td>Very good game although a bit overpriced in my...</td>\n",
       "      <td>0</td>\n",
       "      <td>0</td>\n",
       "      <td>0</td>\n",
       "      <td>0</td>\n",
       "      <td>...</td>\n",
       "      <td>0</td>\n",
       "      <td>0</td>\n",
       "      <td>0</td>\n",
       "      <td>0</td>\n",
       "      <td>0</td>\n",
       "      <td>0</td>\n",
       "      <td>good game although bit overpriced opinion id p...</td>\n",
       "      <td>2019</td>\n",
       "      <td>02</td>\n",
       "      <td>07</td>\n",
       "    </tr>\n",
       "    <tr>\n",
       "      <th>7</th>\n",
       "      <td>295</td>\n",
       "      <td>219</td>\n",
       "      <td>71</td>\n",
       "      <td>0</td>\n",
       "      <td>1</td>\n",
       "      <td>I have never been told to kill myself more tha...</td>\n",
       "      <td>0</td>\n",
       "      <td>0</td>\n",
       "      <td>0</td>\n",
       "      <td>0</td>\n",
       "      <td>...</td>\n",
       "      <td>0</td>\n",
       "      <td>0</td>\n",
       "      <td>0</td>\n",
       "      <td>0</td>\n",
       "      <td>0</td>\n",
       "      <td>0</td>\n",
       "      <td>never told kill playing game</td>\n",
       "      <td>2018</td>\n",
       "      <td>12</td>\n",
       "      <td>24</td>\n",
       "    </tr>\n",
       "    <tr>\n",
       "      <th>9</th>\n",
       "      <td>380</td>\n",
       "      <td>271</td>\n",
       "      <td>414</td>\n",
       "      <td>0</td>\n",
       "      <td>1</td>\n",
       "      <td>if you think cs go is toxic try this game</td>\n",
       "      <td>0</td>\n",
       "      <td>0</td>\n",
       "      <td>0</td>\n",
       "      <td>0</td>\n",
       "      <td>...</td>\n",
       "      <td>0</td>\n",
       "      <td>0</td>\n",
       "      <td>0</td>\n",
       "      <td>0</td>\n",
       "      <td>0</td>\n",
       "      <td>0</td>\n",
       "      <td>think c go toxic try game</td>\n",
       "      <td>2018</td>\n",
       "      <td>12</td>\n",
       "      <td>05</td>\n",
       "    </tr>\n",
       "  </tbody>\n",
       "</table>\n",
       "<p>5 rows × 58 columns</p>\n",
       "</div>"
      ],
      "text/plain": [
       "   funny  helpful  hour_played  is_early_access_review  recommendation  \\\n",
       "0      2        4          578                       0               1   \n",
       "1      0        0          184                       0               1   \n",
       "2      0        0          892                       0               1   \n",
       "7    295      219           71                       0               1   \n",
       "9    380      271          414                       0               1   \n",
       "\n",
       "                                              review  \\\n",
       "0  &gt Played as German Reich&gt Declare war on B...   \n",
       "1                                               yes.   \n",
       "2  Very good game although a bit overpriced in my...   \n",
       "7  I have never been told to kill myself more tha...   \n",
       "9          if you think cs go is toxic try this game   \n",
       "\n",
       "   title_ACE COMBAT™ 7: SKIES UNKNOWN  title_ARK: Survival Evolved  \\\n",
       "0                                   0                            0   \n",
       "1                                   0                            0   \n",
       "2                                   0                            0   \n",
       "7                                   0                            0   \n",
       "9                                   0                            0   \n",
       "\n",
       "   title_ASTRONEER  title_Battlefleet Gothic: Armada 2  ...  title_Terraria  \\\n",
       "0                0                                   0  ...               0   \n",
       "1                0                                   0  ...               0   \n",
       "2                0                                   0  ...               0   \n",
       "7                0                                   0  ...               0   \n",
       "9                0                                   0  ...               0   \n",
       "\n",
       "   title_The Elder Scrolls V: Skyrim Special Edition  \\\n",
       "0                                                  0   \n",
       "1                                                  0   \n",
       "2                                                  0   \n",
       "7                                                  0   \n",
       "9                                                  0   \n",
       "\n",
       "   title_Tom Clancy's Rainbow Six® Siege  title_Wallpaper Engine  \\\n",
       "0                                      0                       0   \n",
       "1                                      0                       0   \n",
       "2                                      0                       0   \n",
       "7                                      0                       0   \n",
       "9                                      0                       0   \n",
       "\n",
       "   title_Wargroove  title_Warhammer 40,000: Mechanicus  \\\n",
       "0                0                                   0   \n",
       "1                0                                   0   \n",
       "2                0                                   0   \n",
       "7                0                                   0   \n",
       "9                0                                   0   \n",
       "\n",
       "                                     cleaned_reviews  Year  Month  Day  \n",
       "0  gt played german UNK declare war UNK cant brea...  2019     02   10  \n",
       "1                                                yes  2019     02   10  \n",
       "2  good game although bit overpriced opinion id p...  2019     02   07  \n",
       "7                       never told kill playing game  2018     12   24  \n",
       "9                          think c go toxic try game  2018     12   05  \n",
       "\n",
       "[5 rows x 58 columns]"
      ]
     },
     "execution_count": 93,
     "metadata": {},
     "output_type": "execute_result"
    }
   ],
   "source": [
    "df['Year'] = newColumns[0]\n",
    "df['Month'] = newColumns[1]\n",
    "df['Day'] = newColumns[2]\n",
    "df.drop(columns = ['date_posted'], inplace = True)\n",
    "\n",
    "df.head()"
   ]
  },
  {
   "cell_type": "markdown",
   "metadata": {},
   "source": [
    "# Encoding text below - steam dataset currently at 194 embedding dim, need to keep same"
   ]
  },
  {
   "cell_type": "code",
   "execution_count": 34,
   "metadata": {},
   "outputs": [
    {
     "name": "stdout",
     "output_type": "stream",
     "text": [
      "removed 35352 reviews > 194 words\n"
     ]
    }
   ],
   "source": [
    "# remove reviews over a limit\n",
    "removed_idx = []\n",
    "for i in range(len(df)):\n",
    "    review = df.iloc[i].cleaned_reviews\n",
    "    words = review.split(\" \")\n",
    "    if len(words) > 194:\n",
    "        removed_idx.append(i)\n",
    "\n",
    "\n",
    "df_ = df.drop(df.index[removed_idx])\n",
    "print (\"removed {} reviews > 194 words\".format(len(removed_idx)))"
   ]
  },
  {
   "cell_type": "code",
   "execution_count": 35,
   "metadata": {},
   "outputs": [
    {
     "name": "stdout",
     "output_type": "stream",
     "text": [
      "vocab_size =  10746\n",
      "max_seq_len =  194\n"
     ]
    }
   ],
   "source": [
    "VOCAB_SIZE = None\n",
    "MAX_SEQ_LEN = 0\n",
    "\n",
    "# find vocab_size\n",
    "all_words = {}\n",
    "for each_review in df_.cleaned_reviews.tolist():\n",
    "    word_list = each_review.split(\" \")\n",
    "    # find max seq len\n",
    "    if len(word_list) > MAX_SEQ_LEN:\n",
    "        MAX_SEQ_LEN = len(word_list)\n",
    "        sent = word_list\n",
    "\n",
    "    for ea_word in word_list:\n",
    "        if ea_word in all_words:\n",
    "            all_words[ea_word] += 1\n",
    "        else:\n",
    "            all_words[ea_word] = 1\n",
    "VOCAB_SIZE = len(all_words.keys())\n",
    "print ('vocab_size = ', VOCAB_SIZE)\n",
    "print ('max_seq_len = ', MAX_SEQ_LEN)\n",
    "# print (MAX_SEQ_LEN, sent)\n",
    "# vocab_size =  52716\n",
    "# max_seq_len =  7984"
   ]
  },
  {
   "cell_type": "code",
   "execution_count": 36,
   "metadata": {},
   "outputs": [],
   "source": [
    "final_cleaned_reviews = df_.cleaned_reviews.tolist()"
   ]
  },
  {
   "cell_type": "code",
   "execution_count": 37,
   "metadata": {},
   "outputs": [
    {
     "data": {
      "text/plain": [
       "(193764, 194)"
      ]
     },
     "execution_count": 37,
     "metadata": {},
     "output_type": "execute_result"
    }
   ],
   "source": [
    "encoded_reviews = [one_hot(x, VOCAB_SIZE) for x in final_cleaned_reviews]\n",
    "padded_reviews = pad_sequences(encoded_reviews, maxlen=MAX_SEQ_LEN, padding='pre')\n",
    "padded_reviews.shape"
   ]
  },
  {
   "cell_type": "code",
   "execution_count": 39,
   "metadata": {},
   "outputs": [
    {
     "data": {
      "text/html": [
       "<div>\n",
       "<style scoped>\n",
       "    .dataframe tbody tr th:only-of-type {\n",
       "        vertical-align: middle;\n",
       "    }\n",
       "\n",
       "    .dataframe tbody tr th {\n",
       "        vertical-align: top;\n",
       "    }\n",
       "\n",
       "    .dataframe thead th {\n",
       "        text-align: right;\n",
       "    }\n",
       "</style>\n",
       "<table border=\"1\" class=\"dataframe\">\n",
       "  <thead>\n",
       "    <tr style=\"text-align: right;\">\n",
       "      <th></th>\n",
       "      <th>review</th>\n",
       "      <th>overall</th>\n",
       "      <th>cleaned_reviews</th>\n",
       "      <th>encoded_1</th>\n",
       "      <th>encoded_2</th>\n",
       "      <th>encoded_3</th>\n",
       "      <th>encoded_4</th>\n",
       "      <th>encoded_5</th>\n",
       "      <th>encoded_6</th>\n",
       "      <th>encoded_7</th>\n",
       "      <th>...</th>\n",
       "      <th>encoded_185</th>\n",
       "      <th>encoded_186</th>\n",
       "      <th>encoded_187</th>\n",
       "      <th>encoded_188</th>\n",
       "      <th>encoded_189</th>\n",
       "      <th>encoded_190</th>\n",
       "      <th>encoded_191</th>\n",
       "      <th>encoded_192</th>\n",
       "      <th>encoded_193</th>\n",
       "      <th>encoded_194</th>\n",
       "    </tr>\n",
       "  </thead>\n",
       "  <tbody>\n",
       "    <tr>\n",
       "      <th>0</th>\n",
       "      <td>Installing the game was a struggle (because of...</td>\n",
       "      <td>1.0</td>\n",
       "      <td>installing game struggle game window live bugs...</td>\n",
       "      <td>0</td>\n",
       "      <td>0</td>\n",
       "      <td>0</td>\n",
       "      <td>0</td>\n",
       "      <td>0</td>\n",
       "      <td>0</td>\n",
       "      <td>0</td>\n",
       "      <td>...</td>\n",
       "      <td>4059</td>\n",
       "      <td>9289</td>\n",
       "      <td>8594</td>\n",
       "      <td>9289</td>\n",
       "      <td>4934</td>\n",
       "      <td>7474</td>\n",
       "      <td>3382</td>\n",
       "      <td>652</td>\n",
       "      <td>2097</td>\n",
       "      <td>2876</td>\n",
       "    </tr>\n",
       "    <tr>\n",
       "      <th>1</th>\n",
       "      <td>If you like rally cars get this game you will ...</td>\n",
       "      <td>4.0</td>\n",
       "      <td>like rally car get game fun it oriented UNK UN...</td>\n",
       "      <td>0</td>\n",
       "      <td>0</td>\n",
       "      <td>0</td>\n",
       "      <td>0</td>\n",
       "      <td>0</td>\n",
       "      <td>0</td>\n",
       "      <td>0</td>\n",
       "      <td>...</td>\n",
       "      <td>3340</td>\n",
       "      <td>8561</td>\n",
       "      <td>9289</td>\n",
       "      <td>214</td>\n",
       "      <td>5126</td>\n",
       "      <td>6257</td>\n",
       "      <td>2827</td>\n",
       "      <td>6823</td>\n",
       "      <td>1256</td>\n",
       "      <td>8798</td>\n",
       "    </tr>\n",
       "    <tr>\n",
       "      <th>2</th>\n",
       "      <td>1st shipment received a book instead of the ga...</td>\n",
       "      <td>1.0</td>\n",
       "      <td>1st shipment received book instead game 2nd sh...</td>\n",
       "      <td>0</td>\n",
       "      <td>0</td>\n",
       "      <td>0</td>\n",
       "      <td>0</td>\n",
       "      <td>0</td>\n",
       "      <td>0</td>\n",
       "      <td>0</td>\n",
       "      <td>...</td>\n",
       "      <td>1745</td>\n",
       "      <td>5242</td>\n",
       "      <td>506</td>\n",
       "      <td>2434</td>\n",
       "      <td>7599</td>\n",
       "      <td>8764</td>\n",
       "      <td>5242</td>\n",
       "      <td>7146</td>\n",
       "      <td>6949</td>\n",
       "      <td>3506</td>\n",
       "    </tr>\n",
       "    <tr>\n",
       "      <th>4</th>\n",
       "      <td>I had Dirt 2 on Xbox 360 and it was an okay ga...</td>\n",
       "      <td>4.0</td>\n",
       "      <td>dirt 2 xbox 360 okay game started playing game...</td>\n",
       "      <td>0</td>\n",
       "      <td>0</td>\n",
       "      <td>0</td>\n",
       "      <td>0</td>\n",
       "      <td>0</td>\n",
       "      <td>0</td>\n",
       "      <td>0</td>\n",
       "      <td>...</td>\n",
       "      <td>7514</td>\n",
       "      <td>5853</td>\n",
       "      <td>5815</td>\n",
       "      <td>9606</td>\n",
       "      <td>595</td>\n",
       "      <td>8561</td>\n",
       "      <td>243</td>\n",
       "      <td>2076</td>\n",
       "      <td>2734</td>\n",
       "      <td>9289</td>\n",
       "    </tr>\n",
       "    <tr>\n",
       "      <th>5</th>\n",
       "      <td>Overall this is a well done racing game, with ...</td>\n",
       "      <td>4.0</td>\n",
       "      <td>overall well done racing game good graphic tim...</td>\n",
       "      <td>0</td>\n",
       "      <td>0</td>\n",
       "      <td>0</td>\n",
       "      <td>0</td>\n",
       "      <td>0</td>\n",
       "      <td>0</td>\n",
       "      <td>0</td>\n",
       "      <td>...</td>\n",
       "      <td>8375</td>\n",
       "      <td>3595</td>\n",
       "      <td>1356</td>\n",
       "      <td>2298</td>\n",
       "      <td>8561</td>\n",
       "      <td>7502</td>\n",
       "      <td>2298</td>\n",
       "      <td>1329</td>\n",
       "      <td>6555</td>\n",
       "      <td>6758</td>\n",
       "    </tr>\n",
       "  </tbody>\n",
       "</table>\n",
       "<p>5 rows × 197 columns</p>\n",
       "</div>"
      ],
      "text/plain": [
       "                                              review  overall  \\\n",
       "0  Installing the game was a struggle (because of...      1.0   \n",
       "1  If you like rally cars get this game you will ...      4.0   \n",
       "2  1st shipment received a book instead of the ga...      1.0   \n",
       "4  I had Dirt 2 on Xbox 360 and it was an okay ga...      4.0   \n",
       "5  Overall this is a well done racing game, with ...      4.0   \n",
       "\n",
       "                                     cleaned_reviews  encoded_1  encoded_2  \\\n",
       "0  installing game struggle game window live bugs...          0          0   \n",
       "1  like rally car get game fun it oriented UNK UN...          0          0   \n",
       "2  1st shipment received book instead game 2nd sh...          0          0   \n",
       "4  dirt 2 xbox 360 okay game started playing game...          0          0   \n",
       "5  overall well done racing game good graphic tim...          0          0   \n",
       "\n",
       "   encoded_3  encoded_4  encoded_5  encoded_6  encoded_7  ...  encoded_185  \\\n",
       "0          0          0          0          0          0  ...         4059   \n",
       "1          0          0          0          0          0  ...         3340   \n",
       "2          0          0          0          0          0  ...         1745   \n",
       "4          0          0          0          0          0  ...         7514   \n",
       "5          0          0          0          0          0  ...         8375   \n",
       "\n",
       "   encoded_186  encoded_187  encoded_188  encoded_189  encoded_190  \\\n",
       "0         9289         8594         9289         4934         7474   \n",
       "1         8561         9289          214         5126         6257   \n",
       "2         5242          506         2434         7599         8764   \n",
       "4         5853         5815         9606          595         8561   \n",
       "5         3595         1356         2298         8561         7502   \n",
       "\n",
       "   encoded_191  encoded_192  encoded_193  encoded_194  \n",
       "0         3382          652         2097         2876  \n",
       "1         2827         6823         1256         8798  \n",
       "2         5242         7146         6949         3506  \n",
       "4          243         2076         2734         9289  \n",
       "5         2298         1329         6555         6758  \n",
       "\n",
       "[5 rows x 197 columns]"
      ]
     },
     "execution_count": 39,
     "metadata": {},
     "output_type": "execute_result"
    }
   ],
   "source": [
    "encoded_text_cols = padded_reviews.shape[1]\n",
    "for col_idx in range(encoded_text_cols):\n",
    "    df_.insert(len(df_.columns), \"encoded_{}\".format(col_idx+1), padded_reviews[:, col_idx])\n",
    "df_.head()"
   ]
  },
  {
   "cell_type": "code",
   "execution_count": 40,
   "metadata": {},
   "outputs": [
    {
     "data": {
      "text/plain": [
       "(193764, 197)"
      ]
     },
     "execution_count": 40,
     "metadata": {},
     "output_type": "execute_result"
    }
   ],
   "source": [
    "df_.shape"
   ]
  },
  {
   "cell_type": "markdown",
   "metadata": {},
   "source": [
    "# Convert to classification problem"
   ]
  },
  {
   "cell_type": "code",
   "execution_count": 42,
   "metadata": {},
   "outputs": [],
   "source": [
    "df_['overall'] = ((df_['overall']<=5) & (df_['overall']>=4)).astype(int)"
   ]
  },
  {
   "cell_type": "code",
   "execution_count": 43,
   "metadata": {},
   "outputs": [
    {
     "data": {
      "text/html": [
       "<div>\n",
       "<style scoped>\n",
       "    .dataframe tbody tr th:only-of-type {\n",
       "        vertical-align: middle;\n",
       "    }\n",
       "\n",
       "    .dataframe tbody tr th {\n",
       "        vertical-align: top;\n",
       "    }\n",
       "\n",
       "    .dataframe thead th {\n",
       "        text-align: right;\n",
       "    }\n",
       "</style>\n",
       "<table border=\"1\" class=\"dataframe\">\n",
       "  <thead>\n",
       "    <tr style=\"text-align: right;\">\n",
       "      <th></th>\n",
       "      <th>review</th>\n",
       "      <th>overall</th>\n",
       "      <th>cleaned_reviews</th>\n",
       "      <th>encoded_1</th>\n",
       "      <th>encoded_2</th>\n",
       "      <th>encoded_3</th>\n",
       "      <th>encoded_4</th>\n",
       "      <th>encoded_5</th>\n",
       "      <th>encoded_6</th>\n",
       "      <th>encoded_7</th>\n",
       "      <th>...</th>\n",
       "      <th>encoded_185</th>\n",
       "      <th>encoded_186</th>\n",
       "      <th>encoded_187</th>\n",
       "      <th>encoded_188</th>\n",
       "      <th>encoded_189</th>\n",
       "      <th>encoded_190</th>\n",
       "      <th>encoded_191</th>\n",
       "      <th>encoded_192</th>\n",
       "      <th>encoded_193</th>\n",
       "      <th>encoded_194</th>\n",
       "    </tr>\n",
       "  </thead>\n",
       "  <tbody>\n",
       "    <tr>\n",
       "      <th>0</th>\n",
       "      <td>Installing the game was a struggle (because of...</td>\n",
       "      <td>0</td>\n",
       "      <td>installing game struggle game window live bugs...</td>\n",
       "      <td>0</td>\n",
       "      <td>0</td>\n",
       "      <td>0</td>\n",
       "      <td>0</td>\n",
       "      <td>0</td>\n",
       "      <td>0</td>\n",
       "      <td>0</td>\n",
       "      <td>...</td>\n",
       "      <td>4059</td>\n",
       "      <td>9289</td>\n",
       "      <td>8594</td>\n",
       "      <td>9289</td>\n",
       "      <td>4934</td>\n",
       "      <td>7474</td>\n",
       "      <td>3382</td>\n",
       "      <td>652</td>\n",
       "      <td>2097</td>\n",
       "      <td>2876</td>\n",
       "    </tr>\n",
       "    <tr>\n",
       "      <th>1</th>\n",
       "      <td>If you like rally cars get this game you will ...</td>\n",
       "      <td>1</td>\n",
       "      <td>like rally car get game fun it oriented UNK UN...</td>\n",
       "      <td>0</td>\n",
       "      <td>0</td>\n",
       "      <td>0</td>\n",
       "      <td>0</td>\n",
       "      <td>0</td>\n",
       "      <td>0</td>\n",
       "      <td>0</td>\n",
       "      <td>...</td>\n",
       "      <td>3340</td>\n",
       "      <td>8561</td>\n",
       "      <td>9289</td>\n",
       "      <td>214</td>\n",
       "      <td>5126</td>\n",
       "      <td>6257</td>\n",
       "      <td>2827</td>\n",
       "      <td>6823</td>\n",
       "      <td>1256</td>\n",
       "      <td>8798</td>\n",
       "    </tr>\n",
       "    <tr>\n",
       "      <th>2</th>\n",
       "      <td>1st shipment received a book instead of the ga...</td>\n",
       "      <td>0</td>\n",
       "      <td>1st shipment received book instead game 2nd sh...</td>\n",
       "      <td>0</td>\n",
       "      <td>0</td>\n",
       "      <td>0</td>\n",
       "      <td>0</td>\n",
       "      <td>0</td>\n",
       "      <td>0</td>\n",
       "      <td>0</td>\n",
       "      <td>...</td>\n",
       "      <td>1745</td>\n",
       "      <td>5242</td>\n",
       "      <td>506</td>\n",
       "      <td>2434</td>\n",
       "      <td>7599</td>\n",
       "      <td>8764</td>\n",
       "      <td>5242</td>\n",
       "      <td>7146</td>\n",
       "      <td>6949</td>\n",
       "      <td>3506</td>\n",
       "    </tr>\n",
       "    <tr>\n",
       "      <th>4</th>\n",
       "      <td>I had Dirt 2 on Xbox 360 and it was an okay ga...</td>\n",
       "      <td>1</td>\n",
       "      <td>dirt 2 xbox 360 okay game started playing game...</td>\n",
       "      <td>0</td>\n",
       "      <td>0</td>\n",
       "      <td>0</td>\n",
       "      <td>0</td>\n",
       "      <td>0</td>\n",
       "      <td>0</td>\n",
       "      <td>0</td>\n",
       "      <td>...</td>\n",
       "      <td>7514</td>\n",
       "      <td>5853</td>\n",
       "      <td>5815</td>\n",
       "      <td>9606</td>\n",
       "      <td>595</td>\n",
       "      <td>8561</td>\n",
       "      <td>243</td>\n",
       "      <td>2076</td>\n",
       "      <td>2734</td>\n",
       "      <td>9289</td>\n",
       "    </tr>\n",
       "    <tr>\n",
       "      <th>5</th>\n",
       "      <td>Overall this is a well done racing game, with ...</td>\n",
       "      <td>1</td>\n",
       "      <td>overall well done racing game good graphic tim...</td>\n",
       "      <td>0</td>\n",
       "      <td>0</td>\n",
       "      <td>0</td>\n",
       "      <td>0</td>\n",
       "      <td>0</td>\n",
       "      <td>0</td>\n",
       "      <td>0</td>\n",
       "      <td>...</td>\n",
       "      <td>8375</td>\n",
       "      <td>3595</td>\n",
       "      <td>1356</td>\n",
       "      <td>2298</td>\n",
       "      <td>8561</td>\n",
       "      <td>7502</td>\n",
       "      <td>2298</td>\n",
       "      <td>1329</td>\n",
       "      <td>6555</td>\n",
       "      <td>6758</td>\n",
       "    </tr>\n",
       "  </tbody>\n",
       "</table>\n",
       "<p>5 rows × 197 columns</p>\n",
       "</div>"
      ],
      "text/plain": [
       "                                              review  overall  \\\n",
       "0  Installing the game was a struggle (because of...        0   \n",
       "1  If you like rally cars get this game you will ...        1   \n",
       "2  1st shipment received a book instead of the ga...        0   \n",
       "4  I had Dirt 2 on Xbox 360 and it was an okay ga...        1   \n",
       "5  Overall this is a well done racing game, with ...        1   \n",
       "\n",
       "                                     cleaned_reviews  encoded_1  encoded_2  \\\n",
       "0  installing game struggle game window live bugs...          0          0   \n",
       "1  like rally car get game fun it oriented UNK UN...          0          0   \n",
       "2  1st shipment received book instead game 2nd sh...          0          0   \n",
       "4  dirt 2 xbox 360 okay game started playing game...          0          0   \n",
       "5  overall well done racing game good graphic tim...          0          0   \n",
       "\n",
       "   encoded_3  encoded_4  encoded_5  encoded_6  encoded_7  ...  encoded_185  \\\n",
       "0          0          0          0          0          0  ...         4059   \n",
       "1          0          0          0          0          0  ...         3340   \n",
       "2          0          0          0          0          0  ...         1745   \n",
       "4          0          0          0          0          0  ...         7514   \n",
       "5          0          0          0          0          0  ...         8375   \n",
       "\n",
       "   encoded_186  encoded_187  encoded_188  encoded_189  encoded_190  \\\n",
       "0         9289         8594         9289         4934         7474   \n",
       "1         8561         9289          214         5126         6257   \n",
       "2         5242          506         2434         7599         8764   \n",
       "4         5853         5815         9606          595         8561   \n",
       "5         3595         1356         2298         8561         7502   \n",
       "\n",
       "   encoded_191  encoded_192  encoded_193  encoded_194  \n",
       "0         3382          652         2097         2876  \n",
       "1         2827         6823         1256         8798  \n",
       "2         5242         7146         6949         3506  \n",
       "4          243         2076         2734         9289  \n",
       "5         2298         1329         6555         6758  \n",
       "\n",
       "[5 rows x 197 columns]"
      ]
     },
     "execution_count": 43,
     "metadata": {},
     "output_type": "execute_result"
    }
   ],
   "source": [
    "df_.head()"
   ]
  },
  {
   "cell_type": "markdown",
   "metadata": {},
   "source": [
    "# Code below is to save cleaned dataset -- don't edit"
   ]
  },
  {
   "cell_type": "code",
   "execution_count": 44,
   "metadata": {},
   "outputs": [],
   "source": [
    "def save_cleaned_dataset(final_df):\n",
    "    # dataset must be a pd dataframe\n",
    "    root = \"data/\"\n",
    "    final_df.to_csv(root + \"cleaned_amzn_data_4-15_10Kwords.csv\")\n",
    "save_cleaned_dataset(df_) # testing"
   ]
  },
  {
   "cell_type": "code",
   "execution_count": null,
   "metadata": {
    "collapsed": true
   },
   "outputs": [],
   "source": [
    "def save_cleaned_dataset(dataset):\n",
    "    # dataset must be a np array\n",
    "    root = \"data/\"\n",
    "    cols_added = dataset.shape[1]\n",
    "    col_names = []\n",
    "    for col_idx in range(cols_added):\n",
    "        col_names.append(\"embedded_{}\".format(col_idx))\n",
    "    dataset_df = pd.DataFrame(data=dataset, columns=col_names)\n",
    "    dataset_df.to_csv(\"steam_text_data_4-15.csv\")\n",
    "#     savetxt(root + 'cleaned_steam_data_3-28.csv', dataset, delimiter=',')\n",
    "save_cleaned_dataset(padded_reviews) # testing"
   ]
  },
  {
   "cell_type": "code",
   "execution_count": null,
   "metadata": {},
   "outputs": [],
   "source": []
  }
 ],
 "metadata": {
  "kernelspec": {
   "display_name": "Python 3",
   "language": "python",
   "name": "python3"
  },
  "language_info": {
   "codemirror_mode": {
    "name": "ipython",
    "version": 3
   },
   "file_extension": ".py",
   "mimetype": "text/x-python",
   "name": "python",
   "nbconvert_exporter": "python",
   "pygments_lexer": "ipython3",
   "version": "3.7.4"
  }
 },
 "nbformat": 4,
 "nbformat_minor": 2
}
