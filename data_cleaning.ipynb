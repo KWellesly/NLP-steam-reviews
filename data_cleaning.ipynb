{
 "cells": [
  {
   "cell_type": "code",
   "execution_count": 9,
   "metadata": {},
   "outputs": [
    {
     "data": {
      "text/html": [
       "<style>.container { width:95% !important; }</style>"
      ],
      "text/plain": [
       "<IPython.core.display.HTML object>"
      ]
     },
     "metadata": {},
     "output_type": "display_data"
    }
   ],
   "source": [
    "import numpy as np\n",
    "from numpy import savetxt\n",
    "import pandas as pd\n",
    "import matplotlib.pyplot as plt\n",
    "\n",
    "# keras imports\n",
    "from keras.preprocessing.text import one_hot\n",
    "from keras.preprocessing.sequence import pad_sequences\n",
    "from keras.models import Sequential\n",
    "from keras.layers import Dense, Flatten\n",
    "from keras.layers.embeddings import Embedding\n",
    "\n",
    "\n",
    "from IPython.core.display import display, HTML\n",
    "display(HTML(\"<style>.container { width:95% !important; }</style>\"))"
   ]
  },
  {
   "cell_type": "code",
   "execution_count": 18,
   "metadata": {},
   "outputs": [
    {
     "name": "stdout",
     "output_type": "stream",
     "text": [
      "<class 'pandas.core.frame.DataFrame'>\n",
      "       date_posted  funny  helpful  hour_played  is_early_access_review  \\\n",
      "0       2019-02-10      2        4          578                   False   \n",
      "1       2019-02-10      0        0          184                   False   \n",
      "2       2019-02-07      0        0          892                   False   \n",
      "3       2018-06-14    126     1086          676                   False   \n",
      "4       2017-06-20     85     2139          612                   False   \n",
      "...            ...    ...      ...          ...                     ...   \n",
      "434886  2018-11-17      1       37           10                   False   \n",
      "434887  2018-11-17      3       41           38                   False   \n",
      "434888  2018-11-20      0        0           36                   False   \n",
      "434889  2018-11-18      1       44           12                   False   \n",
      "434890  2019-01-21      1       28           20                   False   \n",
      "\n",
      "       recommendation                                             review  \\\n",
      "0         Recommended  &gt Played as German Reich&gt Declare war on B...   \n",
      "1         Recommended                                               yes.   \n",
      "2         Recommended  Very good game although a bit overpriced in my...   \n",
      "3         Recommended  Out of all the reviews I wrote This one is pro...   \n",
      "4         Recommended  Disclaimer I survivor main. I play games for f...   \n",
      "...               ...                                                ...   \n",
      "434886    Recommended  YOUR FLESH WILL ROT AND DECAY.STEEL IS IMMORTA...   \n",
      "434887    Recommended  Domini and Dominae I believe what we are deali...   \n",
      "434888    Recommended  First off if you like X Com style of games you...   \n",
      "434889    Recommended  As a disclaimer I'm an AdMech player on the ta...   \n",
      "434890    Recommended  Don't listen to people who claim it's the game...   \n",
      "\n",
      "                                              title  \n",
      "0       Expansion - Hearts of Iron IV: Man the Guns  \n",
      "1       Expansion - Hearts of Iron IV: Man the Guns  \n",
      "2       Expansion - Hearts of Iron IV: Man the Guns  \n",
      "3                                  Dead by Daylight  \n",
      "4                                  Dead by Daylight  \n",
      "...                                             ...  \n",
      "434886                 Warhammer 40,000: Mechanicus  \n",
      "434887                 Warhammer 40,000: Mechanicus  \n",
      "434888                 Warhammer 40,000: Mechanicus  \n",
      "434889                 Warhammer 40,000: Mechanicus  \n",
      "434890                 Warhammer 40,000: Mechanicus  \n",
      "\n",
      "[434891 rows x 8 columns]\n"
     ]
    }
   ],
   "source": [
    "data_dir = \"data/steam_reviews.csv\"\n",
    "df = pd.read_csv(data_dir)\n",
    "print(type(df))\n",
    "print(df)"
   ]
  },
  {
   "cell_type": "code",
   "execution_count": 3,
   "metadata": {},
   "outputs": [
    {
     "data": {
      "text/html": [
       "<div>\n",
       "<style scoped>\n",
       "    .dataframe tbody tr th:only-of-type {\n",
       "        vertical-align: middle;\n",
       "    }\n",
       "\n",
       "    .dataframe tbody tr th {\n",
       "        vertical-align: top;\n",
       "    }\n",
       "\n",
       "    .dataframe thead th {\n",
       "        text-align: right;\n",
       "    }\n",
       "</style>\n",
       "<table border=\"1\" class=\"dataframe\">\n",
       "  <thead>\n",
       "    <tr style=\"text-align: right;\">\n",
       "      <th></th>\n",
       "      <th>date_posted</th>\n",
       "      <th>funny</th>\n",
       "      <th>helpful</th>\n",
       "      <th>hour_played</th>\n",
       "      <th>is_early_access_review</th>\n",
       "      <th>recommendation</th>\n",
       "      <th>review</th>\n",
       "      <th>title</th>\n",
       "    </tr>\n",
       "  </thead>\n",
       "  <tbody>\n",
       "    <tr>\n",
       "      <td>0</td>\n",
       "      <td>2019-02-10</td>\n",
       "      <td>2</td>\n",
       "      <td>4</td>\n",
       "      <td>578</td>\n",
       "      <td>False</td>\n",
       "      <td>Recommended</td>\n",
       "      <td>&amp;gt Played as German Reich&amp;gt Declare war on B...</td>\n",
       "      <td>Expansion - Hearts of Iron IV: Man the Guns</td>\n",
       "    </tr>\n",
       "    <tr>\n",
       "      <td>1</td>\n",
       "      <td>2019-02-10</td>\n",
       "      <td>0</td>\n",
       "      <td>0</td>\n",
       "      <td>184</td>\n",
       "      <td>False</td>\n",
       "      <td>Recommended</td>\n",
       "      <td>yes.</td>\n",
       "      <td>Expansion - Hearts of Iron IV: Man the Guns</td>\n",
       "    </tr>\n",
       "    <tr>\n",
       "      <td>2</td>\n",
       "      <td>2019-02-07</td>\n",
       "      <td>0</td>\n",
       "      <td>0</td>\n",
       "      <td>892</td>\n",
       "      <td>False</td>\n",
       "      <td>Recommended</td>\n",
       "      <td>Very good game although a bit overpriced in my...</td>\n",
       "      <td>Expansion - Hearts of Iron IV: Man the Guns</td>\n",
       "    </tr>\n",
       "    <tr>\n",
       "      <td>3</td>\n",
       "      <td>2018-06-14</td>\n",
       "      <td>126</td>\n",
       "      <td>1086</td>\n",
       "      <td>676</td>\n",
       "      <td>False</td>\n",
       "      <td>Recommended</td>\n",
       "      <td>Out of all the reviews I wrote This one is pro...</td>\n",
       "      <td>Dead by Daylight</td>\n",
       "    </tr>\n",
       "    <tr>\n",
       "      <td>4</td>\n",
       "      <td>2017-06-20</td>\n",
       "      <td>85</td>\n",
       "      <td>2139</td>\n",
       "      <td>612</td>\n",
       "      <td>False</td>\n",
       "      <td>Recommended</td>\n",
       "      <td>Disclaimer I survivor main. I play games for f...</td>\n",
       "      <td>Dead by Daylight</td>\n",
       "    </tr>\n",
       "  </tbody>\n",
       "</table>\n",
       "</div>"
      ],
      "text/plain": [
       "  date_posted  funny  helpful  hour_played  is_early_access_review  \\\n",
       "0  2019-02-10      2        4          578                   False   \n",
       "1  2019-02-10      0        0          184                   False   \n",
       "2  2019-02-07      0        0          892                   False   \n",
       "3  2018-06-14    126     1086          676                   False   \n",
       "4  2017-06-20     85     2139          612                   False   \n",
       "\n",
       "  recommendation                                             review  \\\n",
       "0    Recommended  &gt Played as German Reich&gt Declare war on B...   \n",
       "1    Recommended                                               yes.   \n",
       "2    Recommended  Very good game although a bit overpriced in my...   \n",
       "3    Recommended  Out of all the reviews I wrote This one is pro...   \n",
       "4    Recommended  Disclaimer I survivor main. I play games for f...   \n",
       "\n",
       "                                         title  \n",
       "0  Expansion - Hearts of Iron IV: Man the Guns  \n",
       "1  Expansion - Hearts of Iron IV: Man the Guns  \n",
       "2  Expansion - Hearts of Iron IV: Man the Guns  \n",
       "3                             Dead by Daylight  \n",
       "4                             Dead by Daylight  "
      ]
     },
     "execution_count": 3,
     "metadata": {},
     "output_type": "execute_result"
    }
   ],
   "source": [
    "df.head()"
   ]
  },
  {
   "cell_type": "markdown",
   "metadata": {},
   "source": [
    "# Clean up textual data (try this stuff later, do vanilla run first)\n",
    "* Remove common stopwords?\n",
    "* Lower case everything \n",
    "* All ‘s in the data is preceded by a ‘\\’ which should be cleaned out\n",
    "* Maybe don't lower case everything... ex: \n",
    "    * \"I HIGHLY RECOMMEND THIS GAME CAUSE THERE ARE SOME KILLERS WILL FOLLOW YOU NO MATTER WHERE YOU GO IN WHICH YOU'LL GO LOOPING EACH OTHER Who said this game is a horror game but MEHHHH Lieesssss ahhahahaha xDDDI never laugh so hard cause of this game I LOVE IT &lt 3333\""
   ]
  },
  {
   "cell_type": "code",
   "execution_count": 4,
   "metadata": {},
   "outputs": [],
   "source": [
    "subset_reviews = df['review'][:50].tolist()"
   ]
  },
  {
   "cell_type": "code",
   "execution_count": 5,
   "metadata": {},
   "outputs": [
    {
     "data": {
      "text/plain": [
       "\"&gt Played as German Reich&gt Declare war on Belgium&gt Can't break Belgium so go through France&gt Capitulate France in order to get to Belgium&gt Get True Blitzkrieg achievementThis game is dad\""
      ]
     },
     "execution_count": 5,
     "metadata": {},
     "output_type": "execute_result"
    }
   ],
   "source": [
    "# a lot of (), so I'm cleaning it out\n",
    "# add space after \".\"\n",
    "cleaned_reviews = []\n",
    "\n",
    "for each_review in subset_reviews:\n",
    "    each_cleaned_review = []\n",
    "    words = each_review.split(\" \")\n",
    "    for idx, each_word in enumerate(words):\n",
    "        cleaned = each_word.replace(\"(\", \"\").replace(\")\", \"\") # remove ()\n",
    "        if \".\" in cleaned:\n",
    "            if cleaned.split(\".\")[1] not in [\"\", \"'\"]:\n",
    "                cleaned = cleaned.replace(\".\", \". \") # add space after \".\" \n",
    "        each_cleaned_review.append(cleaned)\n",
    "    cleaned_reviews.append(\" \".join(each_cleaned_review))\n",
    "cleaned_reviews[0]"
   ]
  },
  {
   "cell_type": "markdown",
   "metadata": {},
   "source": [
    "**Ben's Date Stuff**"
   ]
  },
  {
   "cell_type": "code",
   "execution_count": 25,
   "metadata": {},
   "outputs": [],
   "source": [
    "newColumns = df[\"date_posted\"].str.split(\"-\", n = 2, expand = True) "
   ]
  },
  {
   "cell_type": "code",
   "execution_count": 26,
   "metadata": {},
   "outputs": [
    {
     "data": {
      "text/html": [
       "<div>\n",
       "<style scoped>\n",
       "    .dataframe tbody tr th:only-of-type {\n",
       "        vertical-align: middle;\n",
       "    }\n",
       "\n",
       "    .dataframe tbody tr th {\n",
       "        vertical-align: top;\n",
       "    }\n",
       "\n",
       "    .dataframe thead th {\n",
       "        text-align: right;\n",
       "    }\n",
       "</style>\n",
       "<table border=\"1\" class=\"dataframe\">\n",
       "  <thead>\n",
       "    <tr style=\"text-align: right;\">\n",
       "      <th></th>\n",
       "      <th>funny</th>\n",
       "      <th>helpful</th>\n",
       "      <th>hour_played</th>\n",
       "      <th>is_early_access_review</th>\n",
       "      <th>recommendation</th>\n",
       "      <th>review</th>\n",
       "      <th>title</th>\n",
       "      <th>Year</th>\n",
       "      <th>Month</th>\n",
       "      <th>Day</th>\n",
       "    </tr>\n",
       "  </thead>\n",
       "  <tbody>\n",
       "    <tr>\n",
       "      <td>0</td>\n",
       "      <td>2</td>\n",
       "      <td>4</td>\n",
       "      <td>578</td>\n",
       "      <td>False</td>\n",
       "      <td>Recommended</td>\n",
       "      <td>&amp;gt Played as German Reich&amp;gt Declare war on B...</td>\n",
       "      <td>Expansion - Hearts of Iron IV: Man the Guns</td>\n",
       "      <td>2019</td>\n",
       "      <td>02</td>\n",
       "      <td>10</td>\n",
       "    </tr>\n",
       "    <tr>\n",
       "      <td>1</td>\n",
       "      <td>0</td>\n",
       "      <td>0</td>\n",
       "      <td>184</td>\n",
       "      <td>False</td>\n",
       "      <td>Recommended</td>\n",
       "      <td>yes.</td>\n",
       "      <td>Expansion - Hearts of Iron IV: Man the Guns</td>\n",
       "      <td>2019</td>\n",
       "      <td>02</td>\n",
       "      <td>10</td>\n",
       "    </tr>\n",
       "    <tr>\n",
       "      <td>2</td>\n",
       "      <td>0</td>\n",
       "      <td>0</td>\n",
       "      <td>892</td>\n",
       "      <td>False</td>\n",
       "      <td>Recommended</td>\n",
       "      <td>Very good game although a bit overpriced in my...</td>\n",
       "      <td>Expansion - Hearts of Iron IV: Man the Guns</td>\n",
       "      <td>2019</td>\n",
       "      <td>02</td>\n",
       "      <td>07</td>\n",
       "    </tr>\n",
       "    <tr>\n",
       "      <td>3</td>\n",
       "      <td>126</td>\n",
       "      <td>1086</td>\n",
       "      <td>676</td>\n",
       "      <td>False</td>\n",
       "      <td>Recommended</td>\n",
       "      <td>Out of all the reviews I wrote This one is pro...</td>\n",
       "      <td>Dead by Daylight</td>\n",
       "      <td>2018</td>\n",
       "      <td>06</td>\n",
       "      <td>14</td>\n",
       "    </tr>\n",
       "    <tr>\n",
       "      <td>4</td>\n",
       "      <td>85</td>\n",
       "      <td>2139</td>\n",
       "      <td>612</td>\n",
       "      <td>False</td>\n",
       "      <td>Recommended</td>\n",
       "      <td>Disclaimer I survivor main. I play games for f...</td>\n",
       "      <td>Dead by Daylight</td>\n",
       "      <td>2017</td>\n",
       "      <td>06</td>\n",
       "      <td>20</td>\n",
       "    </tr>\n",
       "    <tr>\n",
       "      <td>...</td>\n",
       "      <td>...</td>\n",
       "      <td>...</td>\n",
       "      <td>...</td>\n",
       "      <td>...</td>\n",
       "      <td>...</td>\n",
       "      <td>...</td>\n",
       "      <td>...</td>\n",
       "      <td>...</td>\n",
       "      <td>...</td>\n",
       "      <td>...</td>\n",
       "    </tr>\n",
       "    <tr>\n",
       "      <td>434886</td>\n",
       "      <td>1</td>\n",
       "      <td>37</td>\n",
       "      <td>10</td>\n",
       "      <td>False</td>\n",
       "      <td>Recommended</td>\n",
       "      <td>YOUR FLESH WILL ROT AND DECAY.STEEL IS IMMORTA...</td>\n",
       "      <td>Warhammer 40,000: Mechanicus</td>\n",
       "      <td>2018</td>\n",
       "      <td>11</td>\n",
       "      <td>17</td>\n",
       "    </tr>\n",
       "    <tr>\n",
       "      <td>434887</td>\n",
       "      <td>3</td>\n",
       "      <td>41</td>\n",
       "      <td>38</td>\n",
       "      <td>False</td>\n",
       "      <td>Recommended</td>\n",
       "      <td>Domini and Dominae I believe what we are deali...</td>\n",
       "      <td>Warhammer 40,000: Mechanicus</td>\n",
       "      <td>2018</td>\n",
       "      <td>11</td>\n",
       "      <td>17</td>\n",
       "    </tr>\n",
       "    <tr>\n",
       "      <td>434888</td>\n",
       "      <td>0</td>\n",
       "      <td>0</td>\n",
       "      <td>36</td>\n",
       "      <td>False</td>\n",
       "      <td>Recommended</td>\n",
       "      <td>First off if you like X Com style of games you...</td>\n",
       "      <td>Warhammer 40,000: Mechanicus</td>\n",
       "      <td>2018</td>\n",
       "      <td>11</td>\n",
       "      <td>20</td>\n",
       "    </tr>\n",
       "    <tr>\n",
       "      <td>434889</td>\n",
       "      <td>1</td>\n",
       "      <td>44</td>\n",
       "      <td>12</td>\n",
       "      <td>False</td>\n",
       "      <td>Recommended</td>\n",
       "      <td>As a disclaimer I'm an AdMech player on the ta...</td>\n",
       "      <td>Warhammer 40,000: Mechanicus</td>\n",
       "      <td>2018</td>\n",
       "      <td>11</td>\n",
       "      <td>18</td>\n",
       "    </tr>\n",
       "    <tr>\n",
       "      <td>434890</td>\n",
       "      <td>1</td>\n",
       "      <td>28</td>\n",
       "      <td>20</td>\n",
       "      <td>False</td>\n",
       "      <td>Recommended</td>\n",
       "      <td>Don't listen to people who claim it's the game...</td>\n",
       "      <td>Warhammer 40,000: Mechanicus</td>\n",
       "      <td>2019</td>\n",
       "      <td>01</td>\n",
       "      <td>21</td>\n",
       "    </tr>\n",
       "  </tbody>\n",
       "</table>\n",
       "<p>434891 rows × 10 columns</p>\n",
       "</div>"
      ],
      "text/plain": [
       "        funny  helpful  hour_played  is_early_access_review recommendation  \\\n",
       "0           2        4          578                   False    Recommended   \n",
       "1           0        0          184                   False    Recommended   \n",
       "2           0        0          892                   False    Recommended   \n",
       "3         126     1086          676                   False    Recommended   \n",
       "4          85     2139          612                   False    Recommended   \n",
       "...       ...      ...          ...                     ...            ...   \n",
       "434886      1       37           10                   False    Recommended   \n",
       "434887      3       41           38                   False    Recommended   \n",
       "434888      0        0           36                   False    Recommended   \n",
       "434889      1       44           12                   False    Recommended   \n",
       "434890      1       28           20                   False    Recommended   \n",
       "\n",
       "                                                   review  \\\n",
       "0       &gt Played as German Reich&gt Declare war on B...   \n",
       "1                                                    yes.   \n",
       "2       Very good game although a bit overpriced in my...   \n",
       "3       Out of all the reviews I wrote This one is pro...   \n",
       "4       Disclaimer I survivor main. I play games for f...   \n",
       "...                                                   ...   \n",
       "434886  YOUR FLESH WILL ROT AND DECAY.STEEL IS IMMORTA...   \n",
       "434887  Domini and Dominae I believe what we are deali...   \n",
       "434888  First off if you like X Com style of games you...   \n",
       "434889  As a disclaimer I'm an AdMech player on the ta...   \n",
       "434890  Don't listen to people who claim it's the game...   \n",
       "\n",
       "                                              title  Year Month Day  \n",
       "0       Expansion - Hearts of Iron IV: Man the Guns  2019    02  10  \n",
       "1       Expansion - Hearts of Iron IV: Man the Guns  2019    02  10  \n",
       "2       Expansion - Hearts of Iron IV: Man the Guns  2019    02  07  \n",
       "3                                  Dead by Daylight  2018    06  14  \n",
       "4                                  Dead by Daylight  2017    06  20  \n",
       "...                                             ...   ...   ...  ..  \n",
       "434886                 Warhammer 40,000: Mechanicus  2018    11  17  \n",
       "434887                 Warhammer 40,000: Mechanicus  2018    11  17  \n",
       "434888                 Warhammer 40,000: Mechanicus  2018    11  20  \n",
       "434889                 Warhammer 40,000: Mechanicus  2018    11  18  \n",
       "434890                 Warhammer 40,000: Mechanicus  2019    01  21  \n",
       "\n",
       "[434891 rows x 10 columns]"
      ]
     },
     "execution_count": 26,
     "metadata": {},
     "output_type": "execute_result"
    }
   ],
   "source": [
    "df['Year'] = newColumns[0]\n",
    "df['Month'] = newColumns[1]\n",
    "df['Day'] = newColumns[2]\n",
    "df.drop(columns = ['date_posted'], inplace = True)\n",
    "\n",
    "df"
   ]
  },
  {
   "cell_type": "markdown",
   "metadata": {},
   "source": [
    "# Encoding text below"
   ]
  },
  {
   "cell_type": "code",
   "execution_count": 6,
   "metadata": {},
   "outputs": [
    {
     "name": "stdout",
     "output_type": "stream",
     "text": [
      "vocab_size =  1841\n",
      "max_seq_len =  1344\n"
     ]
    }
   ],
   "source": [
    "VOCAB_SIZE = None\n",
    "MAX_SEQ_LEN = 0\n",
    "\n",
    "# find vocab_size\n",
    "all_words = {}\n",
    "for each_review in cleaned_reviews:\n",
    "    word_list = each_review.split(\" \")\n",
    "    # find max seq len\n",
    "    if len(word_list) > MAX_SEQ_LEN:\n",
    "        MAX_SEQ_LEN = len(word_list)\n",
    "        sent = word_list\n",
    "\n",
    "    for ea_word in word_list:\n",
    "        if ea_word in all_words:\n",
    "            all_words[ea_word] += 1\n",
    "        else:\n",
    "            all_words[ea_word] = 1\n",
    "VOCAB_SIZE = len(all_words.keys())\n",
    "print ('vocab_size = ', VOCAB_SIZE)\n",
    "print ('max_seq_len = ', MAX_SEQ_LEN)\n",
    "# print (MAX_SEQ_LEN, sent)"
   ]
  },
  {
   "cell_type": "code",
   "execution_count": 7,
   "metadata": {},
   "outputs": [
    {
     "data": {
      "text/plain": [
       "(50, 1344)"
      ]
     },
     "execution_count": 7,
     "metadata": {},
     "output_type": "execute_result"
    }
   ],
   "source": [
    "encoded_reviews = [one_hot(x, VOCAB_SIZE) for x in cleaned_reviews]\n",
    "padded_reviews = pad_sequences(encoded_reviews, maxlen=MAX_SEQ_LEN, padding='pre')\n",
    "padded_reviews.shape"
   ]
  },
  {
   "cell_type": "code",
   "execution_count": 8,
   "metadata": {},
   "outputs": [
    {
     "ename": "NameError",
     "evalue": "name 'padded_docs' is not defined",
     "output_type": "error",
     "traceback": [
      "\u001b[1;31m---------------------------------------------------------------------------\u001b[0m",
      "\u001b[1;31mNameError\u001b[0m                                 Traceback (most recent call last)",
      "\u001b[1;32m<ipython-input-8-e9832e5b2af0>\u001b[0m in \u001b[0;36m<module>\u001b[1;34m\u001b[0m\n\u001b[1;32m----> 1\u001b[1;33m \u001b[0mpadded_docs\u001b[0m\u001b[1;33m\u001b[0m\u001b[1;33m\u001b[0m\u001b[0m\n\u001b[0m",
      "\u001b[1;31mNameError\u001b[0m: name 'padded_docs' is not defined"
     ]
    }
   ],
   "source": [
    "padded_docs"
   ]
  },
  {
   "cell_type": "markdown",
   "metadata": {},
   "source": [
    "# Code below is to save cleaned dataset -- don't edit"
   ]
  },
  {
   "cell_type": "code",
   "execution_count": null,
   "metadata": {},
   "outputs": [],
   "source": [
    "def save_cleaned_dataset(dataset):\n",
    "    # dataset must be a np array\n",
    "    root = \"data/\"\n",
    "    savetxt(root + 'cleaned_steam_data.csv', dataset, delimiter=',')\n",
    "save_cleaned_dataset(padded_docs) # testing"
   ]
  },
  {
   "cell_type": "code",
   "execution_count": null,
   "metadata": {},
   "outputs": [],
   "source": []
  }
 ],
 "metadata": {
  "kernelspec": {
   "display_name": "Python 3",
   "language": "python",
   "name": "python3"
  },
  "language_info": {
   "codemirror_mode": {
    "name": "ipython",
    "version": 3
   },
   "file_extension": ".py",
   "mimetype": "text/x-python",
   "name": "python",
   "nbconvert_exporter": "python",
   "pygments_lexer": "ipython3",
   "version": "3.7.4"
  }
 },
 "nbformat": 4,
 "nbformat_minor": 2
}
